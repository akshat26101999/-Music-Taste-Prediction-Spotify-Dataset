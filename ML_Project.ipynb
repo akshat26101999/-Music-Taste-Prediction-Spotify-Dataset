{
 "cells": [
  {
   "cell_type": "markdown",
   "id": "fd146a3b",
   "metadata": {},
   "source": [
    "#  Music taste prediction\n",
    "Name - Akshat Sharma\n",
    "\n",
    "Student Id - 220692379\n",
    "\n",
    "Subject Code - MTH786P\n",
    "\n",
    "Data Set - Spotify dataset"
   ]
  },
  {
   "cell_type": "code",
   "execution_count": 1,
   "id": "3ea4f651",
   "metadata": {},
   "outputs": [],
   "source": [
    "import pandas as pd\n",
    "import numpy as np\n",
    "from matplotlib import pyplot as plt\n",
    "%matplotlib inline\n",
    "import matplotlib "
   ]
  },
  {
   "cell_type": "markdown",
   "id": "3462e9d7",
   "metadata": {},
   "source": [
    "### Load the data from the CSV file"
   ]
  },
  {
   "cell_type": "code",
   "execution_count": 2,
   "id": "4b7bbb3f",
   "metadata": {},
   "outputs": [
    {
     "data": {
      "text/html": [
       "<div>\n",
       "<style scoped>\n",
       "    .dataframe tbody tr th:only-of-type {\n",
       "        vertical-align: middle;\n",
       "    }\n",
       "\n",
       "    .dataframe tbody tr th {\n",
       "        vertical-align: top;\n",
       "    }\n",
       "\n",
       "    .dataframe thead th {\n",
       "        text-align: right;\n",
       "    }\n",
       "</style>\n",
       "<table border=\"1\" class=\"dataframe\">\n",
       "  <thead>\n",
       "    <tr style=\"text-align: right;\">\n",
       "      <th></th>\n",
       "      <th>danceability</th>\n",
       "      <th>energy</th>\n",
       "      <th>key</th>\n",
       "      <th>loudness</th>\n",
       "      <th>mode</th>\n",
       "      <th>speechiness</th>\n",
       "      <th>acousticness</th>\n",
       "      <th>instrumentalness</th>\n",
       "      <th>liveness</th>\n",
       "      <th>valence</th>\n",
       "      <th>tempo</th>\n",
       "      <th>duration_ms</th>\n",
       "      <th>time_signature</th>\n",
       "      <th>liked</th>\n",
       "    </tr>\n",
       "  </thead>\n",
       "  <tbody>\n",
       "    <tr>\n",
       "      <th>0</th>\n",
       "      <td>0.803</td>\n",
       "      <td>0.6240</td>\n",
       "      <td>7</td>\n",
       "      <td>-6.764</td>\n",
       "      <td>0</td>\n",
       "      <td>0.0477</td>\n",
       "      <td>0.451</td>\n",
       "      <td>0.000734</td>\n",
       "      <td>0.1000</td>\n",
       "      <td>0.6280</td>\n",
       "      <td>95.968</td>\n",
       "      <td>304524</td>\n",
       "      <td>4</td>\n",
       "      <td>0</td>\n",
       "    </tr>\n",
       "    <tr>\n",
       "      <th>1</th>\n",
       "      <td>0.762</td>\n",
       "      <td>0.7030</td>\n",
       "      <td>10</td>\n",
       "      <td>-7.951</td>\n",
       "      <td>0</td>\n",
       "      <td>0.3060</td>\n",
       "      <td>0.206</td>\n",
       "      <td>0.000000</td>\n",
       "      <td>0.0912</td>\n",
       "      <td>0.5190</td>\n",
       "      <td>151.329</td>\n",
       "      <td>247178</td>\n",
       "      <td>4</td>\n",
       "      <td>1</td>\n",
       "    </tr>\n",
       "    <tr>\n",
       "      <th>2</th>\n",
       "      <td>0.261</td>\n",
       "      <td>0.0149</td>\n",
       "      <td>1</td>\n",
       "      <td>-27.528</td>\n",
       "      <td>1</td>\n",
       "      <td>0.0419</td>\n",
       "      <td>0.992</td>\n",
       "      <td>0.897000</td>\n",
       "      <td>0.1020</td>\n",
       "      <td>0.0382</td>\n",
       "      <td>75.296</td>\n",
       "      <td>286987</td>\n",
       "      <td>4</td>\n",
       "      <td>0</td>\n",
       "    </tr>\n",
       "    <tr>\n",
       "      <th>3</th>\n",
       "      <td>0.722</td>\n",
       "      <td>0.7360</td>\n",
       "      <td>3</td>\n",
       "      <td>-6.994</td>\n",
       "      <td>0</td>\n",
       "      <td>0.0585</td>\n",
       "      <td>0.431</td>\n",
       "      <td>0.000001</td>\n",
       "      <td>0.1230</td>\n",
       "      <td>0.5820</td>\n",
       "      <td>89.860</td>\n",
       "      <td>208920</td>\n",
       "      <td>4</td>\n",
       "      <td>1</td>\n",
       "    </tr>\n",
       "    <tr>\n",
       "      <th>4</th>\n",
       "      <td>0.787</td>\n",
       "      <td>0.5720</td>\n",
       "      <td>1</td>\n",
       "      <td>-7.516</td>\n",
       "      <td>1</td>\n",
       "      <td>0.2220</td>\n",
       "      <td>0.145</td>\n",
       "      <td>0.000000</td>\n",
       "      <td>0.0753</td>\n",
       "      <td>0.6470</td>\n",
       "      <td>155.117</td>\n",
       "      <td>179413</td>\n",
       "      <td>4</td>\n",
       "      <td>1</td>\n",
       "    </tr>\n",
       "  </tbody>\n",
       "</table>\n",
       "</div>"
      ],
      "text/plain": [
       "   danceability  energy  key  loudness  mode  speechiness  acousticness  \\\n",
       "0         0.803  0.6240    7    -6.764     0       0.0477         0.451   \n",
       "1         0.762  0.7030   10    -7.951     0       0.3060         0.206   \n",
       "2         0.261  0.0149    1   -27.528     1       0.0419         0.992   \n",
       "3         0.722  0.7360    3    -6.994     0       0.0585         0.431   \n",
       "4         0.787  0.5720    1    -7.516     1       0.2220         0.145   \n",
       "\n",
       "   instrumentalness  liveness  valence    tempo  duration_ms  time_signature  \\\n",
       "0          0.000734    0.1000   0.6280   95.968       304524               4   \n",
       "1          0.000000    0.0912   0.5190  151.329       247178               4   \n",
       "2          0.897000    0.1020   0.0382   75.296       286987               4   \n",
       "3          0.000001    0.1230   0.5820   89.860       208920               4   \n",
       "4          0.000000    0.0753   0.6470  155.117       179413               4   \n",
       "\n",
       "   liked  \n",
       "0      0  \n",
       "1      1  \n",
       "2      0  \n",
       "3      1  \n",
       "4      1  "
      ]
     },
     "execution_count": 2,
     "metadata": {},
     "output_type": "execute_result"
    }
   ],
   "source": [
    "df = pd.read_csv(\"Spotify_data.csv\")\n",
    "df.head()   # Display the first few rows of the data"
   ]
  },
  {
   "cell_type": "code",
   "execution_count": 3,
   "id": "e0c6e45f",
   "metadata": {},
   "outputs": [
    {
     "data": {
      "text/plain": [
       "(195, 14)"
      ]
     },
     "execution_count": 3,
     "metadata": {},
     "output_type": "execute_result"
    }
   ],
   "source": [
    "# Print the shape of the data\n",
    "df.shape "
   ]
  },
  {
   "cell_type": "code",
   "execution_count": 4,
   "id": "a6ead81b",
   "metadata": {},
   "outputs": [
    {
     "data": {
      "text/html": [
       "<div>\n",
       "<style scoped>\n",
       "    .dataframe tbody tr th:only-of-type {\n",
       "        vertical-align: middle;\n",
       "    }\n",
       "\n",
       "    .dataframe tbody tr th {\n",
       "        vertical-align: top;\n",
       "    }\n",
       "\n",
       "    .dataframe thead th {\n",
       "        text-align: right;\n",
       "    }\n",
       "</style>\n",
       "<table border=\"1\" class=\"dataframe\">\n",
       "  <thead>\n",
       "    <tr style=\"text-align: right;\">\n",
       "      <th></th>\n",
       "      <th>danceability</th>\n",
       "      <th>energy</th>\n",
       "      <th>key</th>\n",
       "      <th>loudness</th>\n",
       "      <th>mode</th>\n",
       "      <th>speechiness</th>\n",
       "      <th>acousticness</th>\n",
       "      <th>instrumentalness</th>\n",
       "      <th>liveness</th>\n",
       "      <th>valence</th>\n",
       "      <th>tempo</th>\n",
       "      <th>duration_ms</th>\n",
       "      <th>time_signature</th>\n",
       "    </tr>\n",
       "  </thead>\n",
       "  <tbody>\n",
       "    <tr>\n",
       "      <th>0</th>\n",
       "      <td>0.803</td>\n",
       "      <td>0.6240</td>\n",
       "      <td>7</td>\n",
       "      <td>-6.764</td>\n",
       "      <td>0</td>\n",
       "      <td>0.0477</td>\n",
       "      <td>0.451</td>\n",
       "      <td>0.000734</td>\n",
       "      <td>0.1000</td>\n",
       "      <td>0.6280</td>\n",
       "      <td>95.968</td>\n",
       "      <td>304524</td>\n",
       "      <td>4</td>\n",
       "    </tr>\n",
       "    <tr>\n",
       "      <th>1</th>\n",
       "      <td>0.762</td>\n",
       "      <td>0.7030</td>\n",
       "      <td>10</td>\n",
       "      <td>-7.951</td>\n",
       "      <td>0</td>\n",
       "      <td>0.3060</td>\n",
       "      <td>0.206</td>\n",
       "      <td>0.000000</td>\n",
       "      <td>0.0912</td>\n",
       "      <td>0.5190</td>\n",
       "      <td>151.329</td>\n",
       "      <td>247178</td>\n",
       "      <td>4</td>\n",
       "    </tr>\n",
       "    <tr>\n",
       "      <th>2</th>\n",
       "      <td>0.261</td>\n",
       "      <td>0.0149</td>\n",
       "      <td>1</td>\n",
       "      <td>-27.528</td>\n",
       "      <td>1</td>\n",
       "      <td>0.0419</td>\n",
       "      <td>0.992</td>\n",
       "      <td>0.897000</td>\n",
       "      <td>0.1020</td>\n",
       "      <td>0.0382</td>\n",
       "      <td>75.296</td>\n",
       "      <td>286987</td>\n",
       "      <td>4</td>\n",
       "    </tr>\n",
       "  </tbody>\n",
       "</table>\n",
       "</div>"
      ],
      "text/plain": [
       "   danceability  energy  key  loudness  mode  speechiness  acousticness  \\\n",
       "0         0.803  0.6240    7    -6.764     0       0.0477         0.451   \n",
       "1         0.762  0.7030   10    -7.951     0       0.3060         0.206   \n",
       "2         0.261  0.0149    1   -27.528     1       0.0419         0.992   \n",
       "\n",
       "   instrumentalness  liveness  valence    tempo  duration_ms  time_signature  \n",
       "0          0.000734    0.1000   0.6280   95.968       304524               4  \n",
       "1          0.000000    0.0912   0.5190  151.329       247178               4  \n",
       "2          0.897000    0.1020   0.0382   75.296       286987               4  "
      ]
     },
     "execution_count": 4,
     "metadata": {},
     "output_type": "execute_result"
    }
   ],
   "source": [
    "X = df.drop(['liked'],axis='columns') # all columns except 'liked'\n",
    "X.head(3)"
   ]
  },
  {
   "cell_type": "code",
   "execution_count": 5,
   "id": "bf74a3bd",
   "metadata": {
    "scrolled": false
   },
   "outputs": [
    {
     "data": {
      "text/plain": [
       "0    0\n",
       "1    1\n",
       "2    0\n",
       "3    1\n",
       "4    1\n",
       "Name: liked, dtype: int64"
      ]
     },
     "execution_count": 5,
     "metadata": {},
     "output_type": "execute_result"
    }
   ],
   "source": [
    "y = df.liked # the 'liked' column\n",
    "y.head()"
   ]
  },
  {
   "cell_type": "markdown",
   "id": "75a45a07",
   "metadata": {},
   "source": [
    "### Split the data into a training set and a test set "
   ]
  },
  {
   "cell_type": "code",
   "execution_count": 6,
   "id": "1095fcb8",
   "metadata": {},
   "outputs": [],
   "source": [
    "m = X.shape[0]\n",
    "split = int(0.8 * m)  # use 80% of the data for training\n",
    "X_train = X[:split]\n",
    "y_train = y[:split]\n",
    "X_test = X[split:]\n",
    "y_test = y[split:]"
   ]
  },
  {
   "cell_type": "code",
   "execution_count": 7,
   "id": "a1f9d5be",
   "metadata": {},
   "outputs": [],
   "source": [
    "# Standardize the input features\n",
    "mean = X_train.mean(axis=0)\n",
    "std = X_train.std(axis=0)\n",
    "X_train = (X_train - mean) / std\n",
    "X_test = (X_test - mean) / std"
   ]
  },
  {
   "cell_type": "markdown",
   "id": "884396dc",
   "metadata": {},
   "source": [
    "### Define the linear regression model \n",
    "\n",
    "Linear regression -\n",
    "$$\n",
    "y_{pred} = \\mathbf{X}\\mathbf{w} + b\n",
    "$$\n",
    "\n",
    "Gradient of the loss function -\n",
    "$$\n",
    "dw = \\frac{1}{n} \\cdot \\mathbf{X}^T \\left(\\mathbf{y_{pred}} - \\mathbf{y}\\right), \\quad db = \\frac{1}{n}  \\sum_{i=1}^{m} (y_{pred_i} - Y_i)\n",
    "$$\n"
   ]
  },
  {
   "cell_type": "code",
   "execution_count": 8,
   "id": "f6eb839d",
   "metadata": {},
   "outputs": [],
   "source": [
    "def linear_regression(X, Y, lr, n_iters):\n",
    "    n, m = X.shape  # number of rows and columns in X\n",
    "\n",
    "    b = 0   # initialize bias to 0\n",
    "    w = np.zeros(m)   # initialize weights to 0\n",
    "\n",
    "    # Iteratively update the weights and bias\n",
    "    for i in range(n_iters):\n",
    "        \n",
    "        # Compute the linear prediction\n",
    "        y_pred = np.dot(X, w) + b\n",
    "        \n",
    "        # Compute the gradient of the loss function\n",
    "        dw = (1/n) * np.dot(X.T, (y_pred - Y))\n",
    "        db = (1/n) * np.sum(y_pred - Y)\n",
    "        \n",
    "        # Update the weights and bias using gradient descent\n",
    "        w = w - lr * dw\n",
    "        b = b - lr * db\n",
    "        \n",
    "    return w, b     # Return the final values of the weights and bias\n",
    "\n",
    "w_lr, b_lr = linear_regression(X_train, y_train, 0.001, 10000)  # Train the model using linear regression\n"
   ]
  },
  {
   "cell_type": "markdown",
   "id": "c390e892",
   "metadata": {},
   "source": [
    "#### Define a function to compute the accuracy of the model "
   ]
  },
  {
   "cell_type": "code",
   "execution_count": 9,
   "id": "ddf8e6e8",
   "metadata": {},
   "outputs": [
    {
     "name": "stdout",
     "output_type": "stream",
     "text": [
      "Accuracy of model:  58.63 %\n"
     ]
    }
   ],
   "source": [
    "def accuracy(X, Y, w, b):\n",
    "    y_pred = np.dot(X, w) + b  # Make predictions using the model\n",
    "    ss_res = np.sum((Y - y_pred) ** 2) # residual sum of squares\n",
    "    ss_tot = np.sum((Y - np.mean(Y)) ** 2) # total sum of squares\n",
    "    r_squared = 1 - (ss_res / ss_tot)\n",
    "    return r_squared\n",
    "\n",
    "r_squared = accuracy(X_test, y_test, w_lr, b_lr)\n",
    "print(\"Accuracy of model: \", round(r_squared*100,2), \"%\")"
   ]
  },
  {
   "cell_type": "markdown",
   "id": "a7279f19",
   "metadata": {},
   "source": [
    "### Define the logistic regression model "
   ]
  },
  {
   "cell_type": "markdown",
   "id": "644de11a",
   "metadata": {},
   "source": [
    "sigmoid function.\n",
    "\\begin{equation*} \n",
    "\\sigma(x): = \\frac{1}{1+\\mathrm{e}^{-x}} \\, , \n",
    "\\end{equation*}"
   ]
  },
  {
   "cell_type": "code",
   "execution_count": 10,
   "id": "4766c7a6",
   "metadata": {},
   "outputs": [],
   "source": [
    "# Define the sigmoid function\n",
    "def sigmoid(x):\n",
    "    return 1/(1+np.exp(-x))"
   ]
  },
  {
   "cell_type": "markdown",
   "id": "b3464a63",
   "metadata": {},
   "source": [
    "####  Gradient Descent\n",
    "\n",
    "The cost function compute the cross-entropy loss, which is defined as\n",
    "\n",
    "$$\n",
    "cost = -\\frac{1}{m} \\sum_{i=1}^m \\left( Y_i \\log(y_{pred_i}) + (1-Y_i)\\log(1-y_{pred_i}) \\right)\n",
    "$$\n",
    "\n",
    "\n",
    "Computing the gradients of the loss with respect to the weights and bias\n",
    "$$\n",
    "dw = \\frac{1}{m}  X^T  (y_{pred} - Y),\\quad db = \\frac{1}{m}  \\sum_{i=1}^{m} (y_{pred_i} - Y_i)\n",
    "$$"
   ]
  },
  {
   "cell_type": "code",
   "execution_count": 11,
   "id": "6cb19330",
   "metadata": {},
   "outputs": [
    {
     "name": "stdout",
     "output_type": "stream",
     "text": [
      "cost after  0 iteration is :  8.317766166719345\n",
      "cost after  1000 iteration is :  3.148927021376165\n",
      "cost after  2000 iteration is :  2.778215392734835\n",
      "cost after  3000 iteration is :  2.612997384301308\n",
      "cost after  4000 iteration is :  2.51345960191949\n",
      "cost after  5000 iteration is :  2.4443468889313698\n",
      "cost after  6000 iteration is :  2.3922914955966528\n",
      "cost after  7000 iteration is :  2.3510117047665338\n",
      "cost after  8000 iteration is :  2.31711857877443\n",
      "cost after  9000 iteration is :  2.288595423968332\n"
     ]
    }
   ],
   "source": [
    "def gd_fit(X, Y, lr, n_iters):\n",
    "    n, m = X.shape  # number of rows and columns in X\n",
    "\n",
    "    b = 0   # initialize bias to 0\n",
    "    w = np.zeros(m)   # initialize weights to 0\n",
    "    \n",
    "    cost_list = []    # list to store costs at each iteration\n",
    "    \n",
    "    # Iteratively update the weights and bias\n",
    "    for i in range(n_iters):\n",
    "        \n",
    "        # Compute the linear prediction and the predicted probability\n",
    "        linear_pred = np.dot(X, w) + b\n",
    "        y_pred = sigmoid(linear_pred)\n",
    "        \n",
    "        # Compute the cross-entropy loss\n",
    "        cost = -(1/m)*np.sum( Y*np.log(y_pred) + (1-Y)*np.log(1-y_pred))\n",
    "    \n",
    "        # Compute the gradients of the loss with respect to the weights and bias\n",
    "        dw = (1/m) * np.dot(X.T, (y_pred - Y))\n",
    "        db = (1/m) * np.sum(y_pred - Y)\n",
    "    \n",
    "        # Update the weights and bias using the gradient descent algorithm\n",
    "        w = w - lr*dw\n",
    "        b = b - lr*db\n",
    "        \n",
    "        cost_list.append(cost)   # Append the cost to the list of costs\n",
    "        \n",
    "        # Print the cost after every 10% of the iterations\n",
    "        if i % (n_iters/10) == 0:\n",
    "            print(\"cost after \", i, \"iteration is : \", cost)\n",
    "        \n",
    "    return w, b, cost_list     # Return the final values of the weights, bias, and list of costs\n",
    "\n",
    "w, b, cost_list = gd_fit(X_train, y_train, 0.001, 10000)  # Train the model"
   ]
  },
  {
   "cell_type": "markdown",
   "id": "51e58df2",
   "metadata": {},
   "source": [
    "####  Ridge Regularization\n",
    "\n",
    "$$\n",
    "\\nabla L = X^T(y_{pred}-y) + \\alpha \\cdot w\n",
    "$$"
   ]
  },
  {
   "cell_type": "code",
   "execution_count": 23,
   "id": "d2323220",
   "metadata": {},
   "outputs": [],
   "source": [
    "def logistic_ridge_regression(X, Y, alpha, lr, n_iters):\n",
    "    n, m = X.shape  # number of rows and columns in X\n",
    "\n",
    "    b = 0   # initialize bias to 0\n",
    "    w = np.zeros(m)   # initialize weights to 0\n",
    "\n",
    "    # Iteratively update the weights and bias\n",
    "    for i in range(n_iters):\n",
    "        \n",
    "        # Compute the linear prediction and the predicted probability\n",
    "        linear_pred = np.dot(X, w) + b\n",
    "        y_pred = sigmoid(linear_pred)\n",
    "        \n",
    "        # Compute the gradient of the loss function with regularization term\n",
    "        grad = np.dot(X.T, (y_pred - Y)) + alpha * w\n",
    "        \n",
    "        # Update the weights and bias using gradient descent\n",
    "        w = w - lr * grad\n",
    "        b = b - lr * np.mean(y_pred - Y)\n",
    "        \n",
    "    return w, b     # Return the final values of the weights and bias\n",
    "\n",
    "w_rr, b_rr = logistic_ridge_regression(X_train, y_train, 10, 0.001, 10000)  # Train the model using logistic ridge regression\n"
   ]
  },
  {
   "cell_type": "markdown",
   "id": "219be983",
   "metadata": {},
   "source": [
    "####  Lasso Regularization\n",
    "\n",
    "$$\n",
    "\\nabla L = X^T(y_{pred} - y) + \\alpha \\cdot \\mathrm{sign}(w)\n",
    "$$"
   ]
  },
  {
   "cell_type": "code",
   "execution_count": 21,
   "id": "f2faf78e",
   "metadata": {},
   "outputs": [],
   "source": [
    "def logistic_lasso_regression(X, Y, alpha, lr, n_iters):\n",
    "    n, m = X.shape  # number of rows and columns in X\n",
    "\n",
    "    b = 0   # initialize bias to 0\n",
    "    w = np.zeros(m)   # initialize weights to 0\n",
    "\n",
    "    # Iteratively update the weights and bias\n",
    "    for i in range(n_iters):\n",
    "        \n",
    "        # Compute the linear prediction and the predicted probability\n",
    "        linear_pred = np.dot(X, w) + b\n",
    "        y_pred = sigmoid(linear_pred)\n",
    "        \n",
    "        # Compute the gradient of the loss function with regularization term\n",
    "        grad = np.dot(X.T, (y_pred - Y)) + alpha * np.sign(w)\n",
    "        \n",
    "        # Update the weights and bias using gradient descent\n",
    "        w = w - lr * grad\n",
    "        b = b - lr * np.mean(y_pred - Y)\n",
    "        \n",
    "    return w, b     # Return the final values of the weights and bias\n",
    "\n",
    "w_lr, b_lr = logistic_lasso_regression(X_train, y_train, 10, 0.001, 10000)  # Train the model using logistic lasso regression"
   ]
  },
  {
   "cell_type": "markdown",
   "id": "c0c5dff5",
   "metadata": {},
   "source": [
    "#### Define a function to compute the accuracy of the model "
   ]
  },
  {
   "cell_type": "code",
   "execution_count": 14,
   "id": "732539ce",
   "metadata": {},
   "outputs": [],
   "source": [
    "def accuracy(x, y, w, b):\n",
    "    linear_pred = np.dot(x, w.T) + b\n",
    "    y_pred = sigmoid(linear_pred)\n",
    "    \n",
    "    # Convert probabilities to class labels (0 or 1)\n",
    "    y_pred = y_pred > 0.5\n",
    "    y_pred = np.array(y_pred, dtype='int64')\n",
    "    \n",
    "    # Calculate the accuracy as the percentage of correct predictions\n",
    "    acc = (1 - np.sum(np.absolute(y_pred - y)) / y.shape[0]) * 100\n",
    "\n",
    "    return print(\"Accuracy of our model is: \", round(acc, 2), \"%\")"
   ]
  },
  {
   "cell_type": "code",
   "execution_count": 15,
   "id": "8799ac20",
   "metadata": {
    "scrolled": false
   },
   "outputs": [
    {
     "name": "stdout",
     "output_type": "stream",
     "text": [
      "Accuracy of our model is:  97.44 %\n"
     ]
    }
   ],
   "source": [
    "accuracy(X_test, y_test, w, b)"
   ]
  },
  {
   "cell_type": "code",
   "execution_count": 24,
   "id": "75d23198",
   "metadata": {},
   "outputs": [
    {
     "name": "stdout",
     "output_type": "stream",
     "text": [
      "Accuracy of our model is:  92.31 %\n"
     ]
    }
   ],
   "source": [
    "accuracy(X_test, y_test, w_rr, b_rr)"
   ]
  },
  {
   "cell_type": "code",
   "execution_count": 22,
   "id": "889854e7",
   "metadata": {
    "scrolled": true
   },
   "outputs": [
    {
     "name": "stdout",
     "output_type": "stream",
     "text": [
      "Accuracy of our model is:  84.62 %\n"
     ]
    }
   ],
   "source": [
    "accuracy(X_test, y_test, w_lr, b_lr)"
   ]
  },
  {
   "cell_type": "markdown",
   "id": "449aaef3",
   "metadata": {},
   "source": [
    "### Define a function to predict the class labels (0 or 1) "
   ]
  },
  {
   "cell_type": "code",
   "execution_count": 26,
   "id": "c1a95da8",
   "metadata": {},
   "outputs": [],
   "source": [
    "def predict(X, w, b):\n",
    "    linear_pred = np.dot(X, w) + b\n",
    "    y_pred = sigmoid(linear_pred)\n",
    "    if y_pred <= 0.5:\n",
    "        return 0\n",
    "    else:\n",
    "        return 1"
   ]
  },
  {
   "cell_type": "code",
   "execution_count": 27,
   "id": "a41ddf2e",
   "metadata": {},
   "outputs": [
    {
     "name": "stdout",
     "output_type": "stream",
     "text": [
      "0\n"
     ]
    },
    {
     "name": "stderr",
     "output_type": "stream",
     "text": [
      "<ipython-input-10-cc8aaaecdfc2>:3: RuntimeWarning: overflow encountered in exp\n",
      "  return 1/(1+np.exp(-x))\n"
     ]
    }
   ],
   "source": [
    "input_data = [0.803, 0.6240, 7, -6.764, 0, 0.0477, 0.451, 0.000734, 0.1000, 0.6280, 95.968, 304524, 4]\n",
    "prediction = predict(input_data, w_lr, b_lr)\n",
    "print(prediction)"
   ]
  },
  {
   "cell_type": "code",
   "execution_count": null,
   "id": "0257e9a8",
   "metadata": {},
   "outputs": [],
   "source": []
  }
 ],
 "metadata": {
  "kernelspec": {
   "display_name": "Python 3 (ipykernel)",
   "language": "python",
   "name": "python3"
  },
  "language_info": {
   "codemirror_mode": {
    "name": "ipython",
    "version": 3
   },
   "file_extension": ".py",
   "mimetype": "text/x-python",
   "name": "python",
   "nbconvert_exporter": "python",
   "pygments_lexer": "ipython3",
   "version": "3.11.5"
  }
 },
 "nbformat": 4,
 "nbformat_minor": 5
}
